{
 "cells": [
  {
   "cell_type": "code",
   "execution_count": 6,
   "id": "d6d02853",
   "metadata": {},
   "outputs": [
    {
     "name": "stdout",
     "output_type": "stream",
     "text": [
      "a is greater than b\n"
     ]
    }
   ],
   "source": [
    "a=3\n",
    "b=2\n",
    "if a>b: print(\"a is greater than b\")"
   ]
  },
  {
   "cell_type": "code",
   "execution_count": 7,
   "id": "5125ae67",
   "metadata": {},
   "outputs": [
    {
     "name": "stdout",
     "output_type": "stream",
     "text": [
      "b\n"
     ]
    }
   ],
   "source": [
    "a=2\n",
    "b=330\n",
    "print(\"a\") if  a>b else print(\"b\")"
   ]
  },
  {
   "cell_type": "code",
   "execution_count": 9,
   "id": "143f4e4b",
   "metadata": {},
   "outputs": [
    {
     "name": "stdout",
     "output_type": "stream",
     "text": [
      "=\n"
     ]
    }
   ],
   "source": [
    "a=350\n",
    "b=350\n",
    "print(\"a\") if a>b else print(\"=\") if a==b else print(\"b\")"
   ]
  },
  {
   "cell_type": "code",
   "execution_count": 12,
   "id": "9a468ba2",
   "metadata": {},
   "outputs": [
    {
     "name": "stdout",
     "output_type": "stream",
     "text": [
      "greater than 10\n",
      "and also greater than 20\n"
     ]
    }
   ],
   "source": [
    "x=40\n",
    "if x>10:\n",
    "    print(\"greater than 10\")\n",
    "    if x>20:\n",
    "        print(\"and also greater than 20\")\n",
    "    else:\n",
    "            print(\"but not greater than 20\")"
   ]
  },
  {
   "cell_type": "code",
   "execution_count": 15,
   "id": "b715a07a",
   "metadata": {},
   "outputs": [],
   "source": [
    "a=33\n",
    "b=44\n",
    "if b>a:\n",
    "    pass\n"
   ]
  },
  {
   "cell_type": "code",
   "execution_count": 24,
   "id": "f3599616",
   "metadata": {},
   "outputs": [
    {
     "ename": "SyntaxError",
     "evalue": "invalid syntax (Temp/ipykernel_8612/3323294123.py, line 8)",
     "output_type": "error",
     "traceback": [
      "\u001b[1;36m  File \u001b[1;32m\"C:\\Users\\goswa\\AppData\\Local\\Temp/ipykernel_8612/3323294123.py\"\u001b[1;36m, line \u001b[1;32m8\u001b[0m\n\u001b[1;33m    else  d>c:\u001b[0m\n\u001b[1;37m    ^\u001b[0m\n\u001b[1;31mSyntaxError\u001b[0m\u001b[1;31m:\u001b[0m invalid syntax\n"
     ]
    }
   ],
   "source": [
    "a=2\n",
    "b=3\n",
    "c=4\n",
    "d=6\n",
    "e=9\n",
    "if e>d:\n",
    "    print(\"e is greater\")\n",
    "    else  d>c:\n",
    "    print(\"d is greater\")\n",
    "    else c>b:\n",
    "    print(\"c is greater\")\n",
    "    else b>a:\n",
    "    print(\"b is greater\")"
   ]
  },
  {
   "cell_type": "code",
   "execution_count": 25,
   "id": "03b3a4b5",
   "metadata": {},
   "outputs": [
    {
     "ename": "NameError",
     "evalue": "name 'randrange' is not defined",
     "output_type": "error",
     "traceback": [
      "\u001b[1;31m---------------------------------------------------------------------------\u001b[0m",
      "\u001b[1;31mNameError\u001b[0m                                 Traceback (most recent call last)",
      "\u001b[1;32m~\\AppData\\Local\\Temp/ipykernel_8612/1685554673.py\u001b[0m in \u001b[0;36m<module>\u001b[1;34m\u001b[0m\n\u001b[1;32m----> 1\u001b[1;33m \u001b[0mrandrange\u001b[0m\u001b[1;33m(\u001b[0m\u001b[0mstart\u001b[0m\u001b[1;33m)\u001b[0m\u001b[1;33m\u001b[0m\u001b[1;33m\u001b[0m\u001b[0m\n\u001b[0m",
      "\u001b[1;31mNameError\u001b[0m: name 'randrange' is not defined"
     ]
    }
   ],
   "source": [
    "randrange(start)"
   ]
  },
  {
   "cell_type": "code",
   "execution_count": 57,
   "id": "893819af",
   "metadata": {},
   "outputs": [
    {
     "data": {
      "text/plain": [
       "3492"
      ]
     },
     "execution_count": 57,
     "metadata": {},
     "output_type": "execute_result"
    }
   ],
   "source": [
    "import random\n",
    "random.randint(1,10000)"
   ]
  },
  {
   "cell_type": "code",
   "execution_count": 50,
   "id": "69b665d0",
   "metadata": {},
   "outputs": [
    {
     "data": {
      "text/plain": [
       "38"
      ]
     },
     "execution_count": 50,
     "metadata": {},
     "output_type": "execute_result"
    }
   ],
   "source": [
    "import random\n",
    "random.randrange(2,50,12)"
   ]
  },
  {
   "cell_type": "code",
   "execution_count": 53,
   "id": "af44b3bf",
   "metadata": {},
   "outputs": [
    {
     "data": {
      "text/plain": [
       "0.8221564518897184"
      ]
     },
     "execution_count": 53,
     "metadata": {},
     "output_type": "execute_result"
    }
   ],
   "source": [
    "import random\n",
    "random.random()"
   ]
  },
  {
   "cell_type": "code",
   "execution_count": 55,
   "id": "22d9ec56",
   "metadata": {},
   "outputs": [
    {
     "data": {
      "text/plain": [
       "7.444737810873711"
      ]
     },
     "execution_count": 55,
     "metadata": {},
     "output_type": "execute_result"
    }
   ],
   "source": [
    "import random\n",
    "random.uniform(6,8)\n"
   ]
  },
  {
   "cell_type": "code",
   "execution_count": 62,
   "id": "ad5ab6ef",
   "metadata": {},
   "outputs": [
    {
     "data": {
      "text/plain": [
       "35"
      ]
     },
     "execution_count": 62,
     "metadata": {},
     "output_type": "execute_result"
    }
   ],
   "source": [
    "import random\n",
    "array = (23,35, 46,47,9)\n",
    "random.choice(array)"
   ]
  },
  {
   "cell_type": "code",
   "execution_count": 60,
   "id": "29647eab",
   "metadata": {},
   "outputs": [
    {
     "data": {
      "text/plain": [
       "[95, 23]"
      ]
     },
     "execution_count": 60,
     "metadata": {},
     "output_type": "execute_result"
    }
   ],
   "source": [
    "import random\n",
    "array = (23,65,85,95,23,69,44,55,66,77,85,89)\n",
    "random.sample(array,2)"
   ]
  },
  {
   "cell_type": "code",
   "execution_count": 66,
   "id": "8e152b01",
   "metadata": {},
   "outputs": [
    {
     "name": "stdout",
     "output_type": "stream",
     "text": [
      "[30, 40, 20, 50, 10]\n"
     ]
    }
   ],
   "source": [
    "import random\n",
    "a=[10,20,30,40,50]\n",
    "random.shuffle(a)\n",
    "print(a)"
   ]
  },
  {
   "cell_type": "code",
   "execution_count": 74,
   "id": "1f9c23b3",
   "metadata": {},
   "outputs": [
    {
     "name": "stdout",
     "output_type": "stream",
     "text": [
      "0.23796462709189137 0.5442292252959519 0.36995516654807925 "
     ]
    }
   ],
   "source": [
    "import random\n",
    "random.seed(3)\n",
    "for i in range(3):\n",
    "    print(random.random(), end=' ')"
   ]
  },
  {
   "cell_type": "code",
   "execution_count": null,
   "id": "6a276820",
   "metadata": {},
   "outputs": [],
   "source": []
  },
  {
   "cell_type": "code",
   "execution_count": null,
   "id": "81962ee8",
   "metadata": {},
   "outputs": [],
   "source": []
  }
 ],
 "metadata": {
  "kernelspec": {
   "display_name": "Python 3 (ipykernel)",
   "language": "python",
   "name": "python3"
  },
  "language_info": {
   "codemirror_mode": {
    "name": "ipython",
    "version": 3
   },
   "file_extension": ".py",
   "mimetype": "text/x-python",
   "name": "python",
   "nbconvert_exporter": "python",
   "pygments_lexer": "ipython3",
   "version": "3.9.7"
  }
 },
 "nbformat": 4,
 "nbformat_minor": 5
}
